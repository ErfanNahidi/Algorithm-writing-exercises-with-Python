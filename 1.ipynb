{
 "cells": [
  {
   "cell_type": "markdown",
   "id": "1dfef3cd",
   "metadata": {},
   "source": [
<<<<<<< HEAD
    "# linear_search"
=======
    "# linear_search O(n)"
>>>>>>> f55e4d4 (2nd commit)
   ]
  },
  {
   "cell_type": "code",
<<<<<<< HEAD
   "execution_count": 8,
=======
   "execution_count": 17,
>>>>>>> f55e4d4 (2nd commit)
   "id": "5196d644",
   "metadata": {},
   "outputs": [
    {
     "name": "stdout",
     "output_type": "stream",
     "text": [
      "5\n"
     ]
    }
   ],
   "source": [
    "def linear_search(target , input_list):\n",
    "    for i in range(len(input_list)):\n",
    "        if target == input_list[i] :\n",
    "            return i\n",
    "    return -1\n",
    "    \n",
    "target = 6\n",
    "input_list = [1,2,3,4,5,6,7,]\n",
    "print(linear_search(target , input_list))"
   ]
  },
  {
   "cell_type": "markdown",
   "id": "07c14cf4",
   "metadata": {},
   "source": [
<<<<<<< HEAD
    "# Bubble_sort"
=======
    "# Bubble_sort O(n^2)"
>>>>>>> f55e4d4 (2nd commit)
   ]
  },
  {
   "cell_type": "code",
<<<<<<< HEAD
   "execution_count": null,
=======
   "execution_count": 18,
>>>>>>> f55e4d4 (2nd commit)
   "id": "c6cb82fc",
   "metadata": {},
   "outputs": [
    {
     "name": "stdout",
     "output_type": "stream",
     "text": [
      "[11, 12, 22, 25, 34, 64, 90]\n"
     ]
    }
   ],
   "source": [
    "def Bubble_sort(list):\n",
    "    for i in range(len(list)):\n",
    "        for j in range(len(list)-1-i):\n",
    "            if list[j] > list[j+1]:\n",
    "                list[j], list[j+1] = list[j+1], list[j]\n",
    "    return list\n",
    "\n",
    "list = [64, 34, 25, 12, 22, 11, 90]\n",
    "print(Bubble_sort(list))"
   ]
  },
  {
   "cell_type": "markdown",
   "id": "ec3d912f",
   "metadata": {},
   "source": [
    "# Palindrome"
   ]
  },
  {
   "cell_type": "code",
<<<<<<< HEAD
   "execution_count": 45,
=======
   "execution_count": 19,
>>>>>>> f55e4d4 (2nd commit)
   "id": "4a698e7f",
   "metadata": {},
   "outputs": [
    {
     "name": "stdout",
     "output_type": "stream",
     "text": [
      "True\n"
     ]
    }
   ],
   "source": [
    "def check_pali(string):\n",
    "    for i in range(len(string)//2):\n",
    "        if string[i] != string[len(string)-i-1]:\n",
    "            return False\n",
    "    return True\n",
    "\n",
    "string = \"damad\"\n",
    "print(check_pali(string))"
   ]
  },
  {
   "cell_type": "markdown",
   "id": "7921ef67",
   "metadata": {},
   "source": [
<<<<<<< HEAD
    "# bineary_search"
=======
    "# bineary_search O(1) to O(log(n)"
>>>>>>> f55e4d4 (2nd commit)
   ]
  },
  {
   "cell_type": "code",
<<<<<<< HEAD
   "execution_count": 63,
=======
   "execution_count": 20,
>>>>>>> f55e4d4 (2nd commit)
   "id": "eb5f0d26",
   "metadata": {},
   "outputs": [
    {
     "name": "stdout",
     "output_type": "stream",
     "text": [
      "True\n"
     ]
    }
   ],
   "source": [
    "def bineary_search(input,list):\n",
    "    low = 0\n",
    "    high = len(list) - 1\n",
    "    while low <= high:\n",
    "        mid = (low + high) // 2\n",
    "        if input == list[mid]:\n",
    "            return True\n",
    "        elif input > list[mid]:\n",
    "            low = mid+1\n",
    "        else:\n",
    "            high = mid - 1 \n",
    "    return False\n",
    "\n",
    "\n",
    "input = 6\n",
    "list = [1,2,4,6,7,9,13,567,432]\n",
    "list = sorted(list)\n",
    "print(bineary_search(input , list))"
   ]
<<<<<<< HEAD
=======
  },
  {
   "cell_type": "markdown",
   "id": "bc52a55c",
   "metadata": {},
   "source": [
    "# count occurrences O(N)\n",
    "\n",
    "I faild it "
   ]
  },
  {
   "cell_type": "code",
   "execution_count": 21,
   "id": "6a686f23",
   "metadata": {},
   "outputs": [
    {
     "name": "stdout",
     "output_type": "stream",
     "text": [
      "The number 1 appears 2 times\n",
      "The number 2 appears 1 times\n",
      "The number 3 appears 1 times\n",
      "The number 4 appears 1 times\n",
      "The number 5 appears 3 times\n",
      "The number 6 appears 3 times\n",
      "The number 7 appears 1 times\n",
      "The number 9 appears 6 times\n"
     ]
    }
   ],
   "source": [
    "def count_occurrences(list):\n",
    "    arr.sort()\n",
    "    count = 1\n",
    "    for i in range(1, len(arr)):\n",
    "        if arr[i] == arr[i - 1]:\n",
    "            count += 1\n",
    "        else:\n",
    "            print(f\"The number {arr[i - 1]} appears {count} times\")\n",
    "            count = 1\n",
    "    print(f\"The number {arr[-1]} appears {count} times\")\n",
    "\n",
    "\n",
    "arr = [1, 1, 2, 3, 4, 5, 5, 5, 6, 6, 6, 7, 9, 9, 9, 9, 9, 9]\n",
    "count_occurrences(arr)    "
   ]
  },
  {
   "cell_type": "markdown",
   "id": "bbbd036d",
   "metadata": {},
   "source": [
    "# sum n numbers Super fast with formula O(1)"
   ]
  },
  {
   "cell_type": "code",
   "execution_count": 22,
   "id": "2fa1818a",
   "metadata": {},
   "outputs": [
    {
     "name": "stdout",
     "output_type": "stream",
     "text": [
      "500000000000000000000000000000500000000000000000000000000000\n"
     ]
    }
   ],
   "source": [
    "def sum_n(n):\n",
    "    Sum = n * (n + 1) // 2\n",
    "    return Sum\n",
    "\n",
    "print(sum_n(1000000000000000000000000000000))"
   ]
  },
  {
   "cell_type": "markdown",
   "id": "75513eb2",
   "metadata": {},
   "source": [
    "# sum n numbers Super fast without formula O(N)"
   ]
  },
  {
   "cell_type": "code",
   "execution_count": 23,
   "id": "8b319a7d",
   "metadata": {},
   "outputs": [
    {
     "name": "stdout",
     "output_type": "stream",
     "text": [
      "55\n"
     ]
    }
   ],
   "source": [
    "def sum_n(n):\n",
    "    total = 0\n",
    "    for i in range(1, n + 1):\n",
    "        total += i\n",
    "    return total\n",
    "\n",
    "print(sum_n(10))"
   ]
  },
  {
   "cell_type": "markdown",
   "id": "d4a97565",
   "metadata": {},
   "source": [
    "# has_duplicate?? O(N)"
   ]
  },
  {
   "cell_type": "code",
   "execution_count": 30,
   "id": "e0b49dc5",
   "metadata": {},
   "outputs": [
    {
     "name": "stdout",
     "output_type": "stream",
     "text": [
      "True\n"
     ]
    }
   ],
   "source": [
    "def has_duplicate(list):\n",
    "    uniqe = set(list)\n",
    "    if len(list) != len(uniqe):\n",
    "        return True\n",
    "    else:\n",
    "        return False\n",
    "\n",
    "\n",
    "\n",
    "list = [1, 2, 3, 2]\n",
    "print(has_duplicate(list))"
   ]
>>>>>>> f55e4d4 (2nd commit)
  }
 ],
 "metadata": {
  "kernelspec": {
   "display_name": ".venv",
   "language": "python",
   "name": "python3"
  },
  "language_info": {
   "codemirror_mode": {
    "name": "ipython",
    "version": 3
   },
   "file_extension": ".py",
   "mimetype": "text/x-python",
   "name": "python",
   "nbconvert_exporter": "python",
   "pygments_lexer": "ipython3",
   "version": "3.13.2"
  }
 },
 "nbformat": 4,
 "nbformat_minor": 5
}
