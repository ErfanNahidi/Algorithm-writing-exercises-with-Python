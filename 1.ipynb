{
 "cells": [
  {
   "cell_type": "markdown",
   "id": "1dfef3cd",
   "metadata": {},
   "source": [
    "# linear_search"
   ]
  },
  {
   "cell_type": "code",
   "execution_count": 8,
   "id": "5196d644",
   "metadata": {},
   "outputs": [
    {
     "name": "stdout",
     "output_type": "stream",
     "text": [
      "5\n"
     ]
    }
   ],
   "source": [
    "def linear_search(target , input_list):\n",
    "    for i in range(len(input_list)):\n",
    "        if target == input_list[i] :\n",
    "            return i\n",
    "    return -1\n",
    "    \n",
    "target = 6\n",
    "input_list = [1,2,3,4,5,6,7,]\n",
    "print(linear_search(target , input_list))"
   ]
  },
  {
   "cell_type": "markdown",
   "id": "07c14cf4",
   "metadata": {},
   "source": [
    "# Bubble_sort"
   ]
  },
  {
   "cell_type": "code",
   "execution_count": null,
   "id": "c6cb82fc",
   "metadata": {},
   "outputs": [
    {
     "name": "stdout",
     "output_type": "stream",
     "text": [
      "[11, 12, 22, 25, 34, 64, 90]\n"
     ]
    }
   ],
   "source": [
    "def Bubble_sort(list):\n",
    "    for i in range(len(list)):\n",
    "        for j in range(len(list)-1-i):\n",
    "            if list[j] > list[j+1]:\n",
    "                list[j], list[j+1] = list[j+1], list[j]\n",
    "    return list\n",
    "\n",
    "list = [64, 34, 25, 12, 22, 11, 90]\n",
    "print(Bubble_sort(list))"
   ]
  },
  {
   "cell_type": "markdown",
   "id": "ec3d912f",
   "metadata": {},
   "source": [
    "# Palindrome"
   ]
  },
  {
   "cell_type": "code",
   "execution_count": 45,
   "id": "4a698e7f",
   "metadata": {},
   "outputs": [
    {
     "name": "stdout",
     "output_type": "stream",
     "text": [
      "True\n"
     ]
    }
   ],
   "source": [
    "def check_pali(string):\n",
    "    for i in range(len(string)//2):\n",
    "        if string[i] != string[len(string)-i-1]:\n",
    "            return False\n",
    "    return True\n",
    "\n",
    "string = \"damad\"\n",
    "print(check_pali(string))"
   ]
  },
  {
   "cell_type": "markdown",
   "id": "7921ef67",
   "metadata": {},
   "source": [
    "# bineary_search"
   ]
  },
  {
   "cell_type": "code",
   "execution_count": 63,
   "id": "eb5f0d26",
   "metadata": {},
   "outputs": [
    {
     "name": "stdout",
     "output_type": "stream",
     "text": [
      "True\n"
     ]
    }
   ],
   "source": [
    "def bineary_search(input,list):\n",
    "    low = 0\n",
    "    high = len(list) - 1\n",
    "    while low <= high:\n",
    "        mid = (low + high) // 2\n",
    "        if input == list[mid]:\n",
    "            return True\n",
    "        elif input > list[mid]:\n",
    "            low = mid+1\n",
    "        else:\n",
    "            high = mid - 1 \n",
    "    return False\n",
    "\n",
    "\n",
    "input = 6\n",
    "list = [1,2,4,6,7,9,13,567,432]\n",
    "list = sorted(list)\n",
    "print(bineary_search(input , list))"
   ]
  }
 ],
 "metadata": {
  "kernelspec": {
   "display_name": ".venv",
   "language": "python",
   "name": "python3"
  },
  "language_info": {
   "codemirror_mode": {
    "name": "ipython",
    "version": 3
   },
   "file_extension": ".py",
   "mimetype": "text/x-python",
   "name": "python",
   "nbconvert_exporter": "python",
   "pygments_lexer": "ipython3",
   "version": "3.13.2"
  }
 },
 "nbformat": 4,
 "nbformat_minor": 5
}
